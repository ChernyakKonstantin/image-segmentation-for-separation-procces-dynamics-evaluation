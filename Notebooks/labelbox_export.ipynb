{
 "cells": [
  {
   "cell_type": "code",
   "execution_count": 1,
   "id": "1e198c3e",
   "metadata": {},
   "outputs": [],
   "source": [
    "# !pip install labelbox"
   ]
  },
  {
   "cell_type": "code",
   "execution_count": 1,
   "id": "f8804e6a",
   "metadata": {},
   "outputs": [],
   "source": [
    "import requests\n",
    "from PIL import Image\n",
    "import numpy as np\n",
    "from io import BytesIO\n",
    "from typing import Tuple\n",
    "import json\n",
    "import matplotlib.pyplot as plt\n",
    "from tqdm import tqdm\n",
    "import cv2 as cv"
   ]
  },
  {
   "cell_type": "code",
   "execution_count": 2,
   "id": "2e33297f",
   "metadata": {},
   "outputs": [],
   "source": [
    "def get_image(uri: str) -> np.ndarray:\n",
    "    return np.array(Image.open(BytesIO(requests.get(uri).content)))"
   ]
  },
  {
   "cell_type": "code",
   "execution_count": 3,
   "id": "09a9f116",
   "metadata": {},
   "outputs": [],
   "source": [
    "def get_layer(uri: str) -> np.ndarray:\n",
    "    return np.array(Image.open(BytesIO(requests.get(uri).content)))"
   ]
  },
  {
   "cell_type": "code",
   "execution_count": 4,
   "id": "64c2fd80",
   "metadata": {},
   "outputs": [],
   "source": [
    "def get_mask(objects: list) -> dict:\n",
    "    layers = {}\n",
    "    for obj in objects:\n",
    "        title, uri = obj['title'], obj['instanceURI']\n",
    "        layers[title] = get_layer(uri)\n",
    "    return layers"
   ]
  },
  {
   "cell_type": "code",
   "execution_count": 10,
   "id": "1b6e102f",
   "metadata": {},
   "outputs": [],
   "source": [
    "def download(exports: list) -> Tuple[list, list]:\n",
    "    masks = []\n",
    "    images = []\n",
    "    for export in tqdm(exports):\n",
    "        if export['Label']:\n",
    "            objects = export['Label']['objects']\n",
    "            img_uri = export['Labeled Data']\n",
    "            try:\n",
    "                mask = get_mask(objects)\n",
    "                image = get_image(img_uri)\n",
    "                masks.append(mask)\n",
    "                images.append(image)\n",
    "            except:\n",
    "                pass\n",
    "    return images, masks"
   ]
  },
  {
   "cell_type": "code",
   "execution_count": 11,
   "id": "87630d49",
   "metadata": {},
   "outputs": [
    {
     "name": "stderr",
     "output_type": "stream",
     "text": [
      "100%|██████████████████████████████████████████████████████████████████████████████████████████| 763/763 [42:08<00:00,  3.31s/it]\n"
     ]
    }
   ],
   "source": [
    "with open('export-2021-06-14T15_34_43.759Z.json', 'r') as file:\n",
    "    exports = json.load(file)\n",
    "    \n",
    "images, masks = download(exports)"
   ]
  },
  {
   "cell_type": "code",
   "execution_count": 12,
   "id": "bac58154",
   "metadata": {},
   "outputs": [],
   "source": [
    "def get_sparse_mask(layers: dict) -> np.ndarray:\n",
    "    indexes = {'oil': 0, 'emulsion': 1, 'water': 2}\n",
    "    new_layers = []\n",
    "    for layer_name, layer in layers.items():\n",
    "        class_index = indexes[layer_name]\n",
    "        grayscale_layer = cv.cvtColor(layer, cv.COLOR_RGBA2GRAY)\n",
    "        max_value = grayscale_layer.max()\n",
    "        if max_value != 0:\n",
    "            new_layer = grayscale_layer / grayscale_layer.max() * class_index\n",
    "        else:\n",
    "            new_layer = np.nan\n",
    "        new_layers.append(new_layer)\n",
    "    mask = np.expand_dims(np.sum(new_layers, axis=0), axis=-1)\n",
    "    return mask        "
   ]
  },
  {
   "cell_type": "code",
   "execution_count": 13,
   "id": "4bf32081",
   "metadata": {},
   "outputs": [
    {
     "name": "stderr",
     "output_type": "stream",
     "text": [
      "100%|█████████████████████████████████████████████████████████████████████████████████████████| 763/763 [00:01<00:00, 667.38it/s]\n",
      "100%|███████████████████████████████████████████████████████████████████████████████████████| 763/763 [00:00<00:00, 14387.50it/s]"
     ]
    },
    {
     "name": "stdout",
     "output_type": "stream",
     "text": [
      "[]\n"
     ]
    },
    {
     "name": "stderr",
     "output_type": "stream",
     "text": [
      "\n"
     ]
    }
   ],
   "source": [
    "sparse_masks = [get_sparse_mask(mask) for mask in tqdm(masks)]\n",
    "indexes_to_drop = []\n",
    "for i, mask in enumerate(tqdm(sparse_masks)):\n",
    "    if np.isnan(mask).sum() != 0:\n",
    "        indexes_to_drop.append(i)\n",
    "print(indexes_to_drop)"
   ]
  },
  {
   "cell_type": "code",
   "execution_count": 14,
   "id": "d4ab87ba",
   "metadata": {},
   "outputs": [],
   "source": [
    "np.save('images', np.array(images))\n",
    "np.save('masks', np.array(sparse_masks))"
   ]
  },
  {
   "cell_type": "code",
   "execution_count": null,
   "id": "5ef7ae79",
   "metadata": {},
   "outputs": [],
   "source": []
  }
 ],
 "metadata": {
  "kernelspec": {
   "display_name": "Python 3",
   "language": "python",
   "name": "python3"
  },
  "language_info": {
   "codemirror_mode": {
    "name": "ipython",
    "version": 3
   },
   "file_extension": ".py",
   "mimetype": "text/x-python",
   "name": "python",
   "nbconvert_exporter": "python",
   "pygments_lexer": "ipython3",
   "version": "3.8.6"
  }
 },
 "nbformat": 4,
 "nbformat_minor": 5
}
